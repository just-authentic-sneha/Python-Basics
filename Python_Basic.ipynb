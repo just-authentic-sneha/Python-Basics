{
  "nbformat": 4,
  "nbformat_minor": 0,
  "metadata": {
    "colab": {
      "provenance": []
    },
    "kernelspec": {
      "name": "python3",
      "display_name": "Python 3"
    },
    "language_info": {
      "name": "python"
    }
  },
  "cells": [
    {
      "cell_type": "markdown",
      "source": [
        "# Python Basics"
      ],
      "metadata": {
        "id": "0twBnI0b8gxC"
      }
    },
    {
      "cell_type": "markdown",
      "source": [
        "1. What is Python, and why is it popular?\n",
        "   - Python is a high-level, interpreted\n",
        "     programming language known for its simplicity and readability. It is popular due to its ease of use, extensive libraries, cross-platform compatibility, and applications in web development, AI/ML, data science, and automation.\n",
        "\n",
        "2. What is an interpreter in Python?\n",
        "   - An interpreter in Python is a program  \n",
        "     that executes Python code line by line, converting it into machine-readable instructions at runtime.\n",
        "\n",
        "3. What are pre-defined keywords in Python?\n",
        "   - Pre-defined keywords in Python are\n",
        "     reserved words that have special meanings and cannot be used as variable names. Examples include if, else, while, for, def, class, import, etc.\n",
        "\n",
        "4. Can keywords be used as variable names?\n",
        "   - No, keywords cannot be used as variable\n",
        "     names because they have predefined meanings in Python.\n",
        "\n",
        "5. What is mutability in Python?\n",
        "   - Mutability refers to whether an object’s\n",
        "     state (data) can be changed after creation. Mutable objects can be modified, whereas immutable objects cannot.\n",
        "\n",
        "6. Why are lists mutable, but tuples are immutable?\n",
        "   - Lists are mutable because they allow\n",
        "     modifications like adding, removing, or changing elements. Tuples are immutable because their structure remains fixed after creation, ensuring data integrity.\n",
        "\n",
        "7. What is the difference between == and is operators in Python?\n",
        "\n",
        "   - == checks whether two variables have the\n",
        "     same value.\n",
        "\n",
        "   - is checks whether two variables reference\n",
        "     the same memory location.\n",
        "\n",
        "8. What are logical operators in Python?\n",
        "   - Logical operators are used for  \n",
        "     conditional expressions:\n",
        "\n",
        "  - and (returns True if both conditions are\n",
        "     True)\n",
        "\n",
        "  - or (returns True if at least one condition\n",
        "     is True)\n",
        "\n",
        "  - not (negates a condition)\n",
        "\n",
        "9. What is type casting in Python?\n",
        "   - Type casting is converting one data type\n",
        "     into another, like converting a string to an integer using int(\"10\").\n",
        "\n",
        "10. What is the difference between implicit  \n",
        "     and explicit type casting?\n",
        "\n",
        "    - Implicit type casting is done\n",
        "      automatically by Python (e.g., int to float).\n",
        "\n",
        "    - Explicit type casting is done manually  \n",
        "      by the programmer using functions like int(), float(), or str().\n",
        "\n",
        "11. What is the purpose of conditional statements in Python?\n",
        "    - Conditional statements like if, elif,  \n",
        "      and else allow decision-making in programs by executing specific blocks of code based on conditions.\n",
        "\n",
        "12. How does the elif statement work?\n",
        "    - The elif statement is used after an if\n",
        "      condition to check multiple conditions sequentially. If the if condition is false, Python evaluates elif conditions one by one.\n",
        "\n",
        "13. What is the difference between for and while loops?\n",
        "\n",
        "    - for loops are used when the number of\n",
        "     iterations is known in advance.\n",
        "\n",
        "    - while loops are used when the number of  iterations is unknown and depends on a condition.\n",
        "\n",
        "14. Describe a scenario where a while loop is more suitable than a for loop.\n",
        "    - A while loop is better when the number of iterations is uncertain, such as reading user input until they enter a specific value (while input != \"exit\":), or checking a sensor’s data in an IoT application until a threshold is reached."
      ],
      "metadata": {
        "id": "m0RF8xDZ8rP0"
      }
    },
    {
      "cell_type": "code",
      "source": [
        "# 1. Write a Python program to print \"Hello, World!\"\n",
        "print(\"Hello, World!\")"
      ],
      "metadata": {
        "colab": {
          "base_uri": "https://localhost:8080/"
        },
        "id": "sGGtkqUK98PQ",
        "outputId": "65486be0-bebf-40bd-e2f2-1d3d76fff0d9"
      },
      "execution_count": null,
      "outputs": [
        {
          "output_type": "stream",
          "name": "stdout",
          "text": [
            "Hello, World!\n"
          ]
        }
      ]
    },
    {
      "cell_type": "code",
      "source": [
        "# 2. Write a Python program that displays your name and age\n",
        "name = \"Sneha Chand\"\n",
        "print(\"My name is\", name, \"and I am\", age, \"years old.\")"
      ],
      "metadata": {
        "colab": {
          "base_uri": "https://localhost:8080/"
        },
        "id": "aiy4DZgX976P",
        "outputId": "48d5ef30-ac78-4019-a04c-1f512cdcf38f"
      },
      "execution_count": null,
      "outputs": [
        {
          "output_type": "stream",
          "name": "stdout",
          "text": [
            "My name is Sneha Chand and I am 21 years old.\n"
          ]
        }
      ]
    },
    {
      "cell_type": "code",
      "source": [
        "# 3. Write code to print all the pre-defined keywords in Python using the keyword library\n",
        "import keyword\n",
        "\n",
        "print(\"List of Python Keywords:\")\n",
        "keyword.kwlist"
      ],
      "metadata": {
        "colab": {
          "base_uri": "https://localhost:8080/"
        },
        "id": "GNgE2dG_973O",
        "outputId": "acecfabf-7a4c-464c-f370-390d00babd63"
      },
      "execution_count": null,
      "outputs": [
        {
          "output_type": "stream",
          "name": "stdout",
          "text": [
            "List of Python Keywords:\n"
          ]
        },
        {
          "output_type": "execute_result",
          "data": {
            "text/plain": [
              "['False',\n",
              " 'None',\n",
              " 'True',\n",
              " 'and',\n",
              " 'as',\n",
              " 'assert',\n",
              " 'async',\n",
              " 'await',\n",
              " 'break',\n",
              " 'class',\n",
              " 'continue',\n",
              " 'def',\n",
              " 'del',\n",
              " 'elif',\n",
              " 'else',\n",
              " 'except',\n",
              " 'finally',\n",
              " 'for',\n",
              " 'from',\n",
              " 'global',\n",
              " 'if',\n",
              " 'import',\n",
              " 'in',\n",
              " 'is',\n",
              " 'lambda',\n",
              " 'nonlocal',\n",
              " 'not',\n",
              " 'or',\n",
              " 'pass',\n",
              " 'raise',\n",
              " 'return',\n",
              " 'try',\n",
              " 'while',\n",
              " 'with',\n",
              " 'yield']"
            ]
          },
          "metadata": {},
          "execution_count": 3
        }
      ]
    },
    {
      "cell_type": "code",
      "source": [
        "# 4. Write a program that checks if a given word is a Python keyword.\n",
        "import keyword\n",
        "\n",
        "def is_keyword(word):\n",
        "  \"\"\"Checks if a given word is a Python keyword.\"\"\"\n",
        "  return keyword.iskeyword(word)\n",
        "\n",
        "word = input(\"Enter a word: \")\n",
        "if is_keyword(word):\n",
        "  print(f\"{word} is a Python keyword.\")\n",
        "else:\n",
        "  print(f\"{word} is not a Python keyword.\")"
      ],
      "metadata": {
        "id": "OEoqltlW970j"
      },
      "execution_count": null,
      "outputs": []
    },
    {
      "cell_type": "code",
      "source": [
        "# 5. Create a list and tuple in Python, and demonstrate how attempting to change an element works differently for each\n",
        "my_list = [1, 2, 3]\n",
        "my_tuple = (1, 2, 3)\n",
        "\n",
        "# Attempting to change an element in the list\n",
        "my_list[0] = 4\n",
        "print(\"Modified list:\", my_list)  # Output: Modified list: [4, 2, 3]\n",
        "\n",
        "# Attempting to change an element in the tuple (will result in an error)\n",
        "try:\n",
        "  my_tuple[0] = 4\n",
        "except TypeError as e:\n",
        "  print(\"Error:\", e)  # Output: Error: 'tuple' object does not support item assignment"
      ],
      "metadata": {
        "colab": {
          "base_uri": "https://localhost:8080/"
        },
        "id": "x0gwIrPQ97xl",
        "outputId": "f23eddb6-02c6-4e29-de05-1687b9aa1606"
      },
      "execution_count": null,
      "outputs": [
        {
          "output_type": "stream",
          "name": "stdout",
          "text": [
            "Modified list: [4, 2, 3]\n",
            "Error: 'tuple' object does not support item assignment\n"
          ]
        }
      ]
    },
    {
      "cell_type": "code",
      "source": [
        "# 6. Write a function to demonstrate the behavior of mutable and immutable arguments.\n",
        "\n",
        "def demonstrate_mutability(mutable_arg, immutable_arg):\n",
        "    \"\"\"Demonstrates the behavior of mutable and immutable arguments in Python functions.\n",
        "    \"\"\"\n",
        "    print(\"Inside the function:\")\n",
        "    mutable_arg.append(4)  # Modifying the mutable list\n",
        "    print(\"Modified mutable argument:\", mutable_arg)\n",
        "\n",
        "    immutable_arg += 1  # Reassigning the immutable integer\n",
        "    print(\"Modified immutable argument:\", immutable_arg)\n",
        "\n",
        "# Example usage:\n",
        "my_list = [1, 2, 3]\n",
        "my_int = 5\n",
        "\n",
        "print(\"Before calling the function:\")\n",
        "print(\"Original list:\", my_list)\n",
        "print(\"Original integer:\", my_int)\n",
        "\n",
        "demonstrate_mutability(my_list, my_int)\n",
        "\n",
        "print(\"\\nAfter calling the function:\")\n",
        "print(\"List outside function:\", my_list) # Note the change in the original list\n",
        "print(\"Integer outside function:\", my_int) # Note that the original integer remains unchanged"
      ],
      "metadata": {
        "id": "yyXTAkpt97ui",
        "colab": {
          "base_uri": "https://localhost:8080/"
        },
        "outputId": "5ff40ca1-932d-4b84-870f-d6f88827576c"
      },
      "execution_count": null,
      "outputs": [
        {
          "output_type": "stream",
          "name": "stdout",
          "text": [
            "Before calling the function:\n",
            "Original list: [1, 2, 3]\n",
            "Original integer: 5\n",
            "Inside the function:\n",
            "Modified mutable argument: [1, 2, 3, 4]\n",
            "Modified immutable argument: 6\n",
            "\n",
            "After calling the function:\n",
            "List outside function: [1, 2, 3, 4]\n",
            "Integer outside function: 5\n"
          ]
        }
      ]
    },
    {
      "cell_type": "code",
      "source": [
        "# 7. Write a program that performs basic arithmetic operations on two user-input numbers.\n",
        "\n",
        "# Get user input for two numbers\n",
        "try:\n",
        "    num1 = float(input(\"Enter the first number: \"))\n",
        "    num2 = float(input(\"Enter the second number: \"))\n",
        "except ValueError:\n",
        "    print(\"Invalid input. Please enter numbers only.\")\n",
        "    exit()\n",
        "\n",
        "# Perform arithmetic operations\n",
        "sum_result = num1 + num2\n",
        "diff_result = num1 - num2\n",
        "prod_result = num1 * num2\n",
        "\n",
        "# Handle division by zero\n",
        "if num2 == 0:\n",
        "    print(\"Division by zero is not allowed.\")\n",
        "else:\n",
        "    div_result = num1 / num2\n",
        "\n",
        "# Display the results\n",
        "print(f\"Sum: {num1} + {num2} = {sum_result}\")\n",
        "print(f\"Difference: {num1} - {num2} = {diff_result}\")\n",
        "print(f\"Product: {num1} * {num2} = {prod_result}\")\n",
        "if num2 != 0:\n",
        "    print(f\"Division: {num1} / {num2} = {div_result}\")\n"
      ],
      "metadata": {
        "id": "7-Ki6Hfk97r4",
        "colab": {
          "base_uri": "https://localhost:8080/"
        },
        "outputId": "a2293511-ac8d-4404-93cc-4ef9a880b6c3"
      },
      "execution_count": null,
      "outputs": [
        {
          "output_type": "stream",
          "name": "stdout",
          "text": [
            "Enter the first number: 7\n",
            "Enter the second number: 10\n",
            "Sum: 7.0 + 10.0 = 17.0\n",
            "Difference: 7.0 - 10.0 = -3.0\n",
            "Product: 7.0 * 10.0 = 70.0\n",
            "Division: 7.0 / 10.0 = 0.7\n"
          ]
        }
      ]
    },
    {
      "cell_type": "code",
      "source": [
        "# 8. Write a program to demonstrate the use of logical operators.\n",
        "# Example 1: and operator\n",
        "age = 20\n",
        "is_student = True\n",
        "\n",
        "if age >= 18 and is_student:\n",
        "    print(\"Eligible for student discount.\")\n",
        "else:\n",
        "    print(\"Not eligible for student discount.\")\n",
        "\n",
        "# Example 2: or operator\n",
        "has_coupon = False\n",
        "is_member = True\n",
        "\n",
        "if has_coupon or is_member:\n",
        "    print(\"Discount applied.\")\n",
        "else:\n",
        "    print(\"No discount applied.\")\n",
        "\n",
        "\n",
        "# Example 3: not operator\n",
        "is_raining = False\n",
        "\n",
        "if not is_raining:\n",
        "    print(\"Let's go outside.\")\n",
        "else:\n",
        "    print(\"Stay indoors.\")\n",
        "\n",
        "#Combined example\n",
        "\n",
        "a = True\n",
        "b = False\n",
        "c = True\n",
        "\n",
        "print(f\"a and b: {a and b}\")\n",
        "print(f\"a or b: {a or b}\")\n",
        "print(f\"not a: {not a}\")\n",
        "print(f\"a and c: {a and c}\")\n",
        "print(f\"(a or b) and c: {(a or b) and c}\")\n",
        "print(f\"a and (b or c): {a and (b or c)}\")\n"
      ],
      "metadata": {
        "id": "Bg68zyth97pS",
        "colab": {
          "base_uri": "https://localhost:8080/"
        },
        "outputId": "92587e23-4c55-4935-85d1-0302280dfddf"
      },
      "execution_count": null,
      "outputs": [
        {
          "output_type": "stream",
          "name": "stdout",
          "text": [
            "Eligible for student discount.\n",
            "Discount applied.\n",
            "Let's go outside.\n",
            "a and b: False\n",
            "a or b: True\n",
            "not a: False\n",
            "a and c: True\n",
            "(a or b) and c: True\n",
            "a and (b or c): True\n"
          ]
        }
      ]
    },
    {
      "cell_type": "code",
      "source": [
        "# 9. Write a Python program to convert user input from string to integer, float, and boolean types.\n",
        "\n",
        "# Get user input\n",
        "user_input = input(\"Enter a value: \")\n",
        "\n",
        "# Convert to integer\n",
        "try:\n",
        "    int_value = int(user_input)\n",
        "    print(\"Integer:\", int_value)\n",
        "except ValueError:\n",
        "    print(\"Invalid input for integer conversion.\")\n",
        "\n",
        "# Convert to float\n",
        "try:\n",
        "    float_value = float(user_input)\n",
        "    print(\"Float:\", float_value)\n",
        "except ValueError:\n",
        "    print(\"Invalid input for float conversion.\")\n",
        "\n",
        "# Convert to boolean\n",
        "try:\n",
        "    bool_value = bool(user_input)\n",
        "    print(\"Boolean:\", bool_value)\n",
        "except ValueError:\n",
        "    print(\"Invalid input for boolean conversion.\")\n"
      ],
      "metadata": {
        "id": "qCTYnE6X97mf",
        "colab": {
          "base_uri": "https://localhost:8080/"
        },
        "outputId": "2f446c56-eab7-4ba9-9a3a-0a78fe6dc285"
      },
      "execution_count": null,
      "outputs": [
        {
          "output_type": "stream",
          "name": "stdout",
          "text": [
            "Enter a value: 7\n",
            "Integer: 7\n",
            "Float: 7.0\n",
            "Boolean: True\n"
          ]
        }
      ]
    },
    {
      "cell_type": "code",
      "source": [
        "# 10.Write code to demonstrate type casting with list elements.\n",
        "\n",
        "# Example list with different data types\n",
        "my_list = [1, \"2\", 3.0, True]\n",
        "\n",
        "# Type casting list elements\n",
        "int_list = [int(x) for x in my_list if isinstance(x, (int, float, str)) and str(x).isdigit()]\n",
        "print(\"Integer list:\", int_list)\n",
        "\n",
        "str_list = [str(x) for x in my_list]\n",
        "print(\"String list:\", str_list)\n",
        "\n",
        "float_list = [float(x) for x in my_list if isinstance(x, (int, float, str)) and (str(x).replace('.', '', 1).isdigit())]\n",
        "print(\"Float list:\", float_list)\n",
        "\n",
        "bool_list = [bool(x) for x in my_list]\n",
        "print(\"Boolean list:\", bool_list)\n"
      ],
      "metadata": {
        "id": "6AanZnpK97hE",
        "colab": {
          "base_uri": "https://localhost:8080/"
        },
        "outputId": "f0be89ec-5995-458f-d21f-26c46fedadf8"
      },
      "execution_count": null,
      "outputs": [
        {
          "output_type": "stream",
          "name": "stdout",
          "text": [
            "Integer list: [1, 2]\n",
            "String list: ['1', '2', '3.0', 'True']\n",
            "Float list: [1.0, 2.0, 3.0]\n",
            "Boolean list: [True, True, True, True]\n"
          ]
        }
      ]
    },
    {
      "cell_type": "code",
      "source": [
        "# 11. Write a program that checks if a number is positive, negative, or zero.\n",
        "\n",
        "def check_number(number):\n",
        "    if number > 0:\n",
        "        print(f\"{number} is positive.\")\n",
        "    elif number < 0:\n",
        "        print(f\"{number} is negative.\")\n",
        "    else:\n",
        "        print(f\"{number} is zero.\")\n",
        "\n",
        "# Example usage\n",
        "check_number(5)  # Output: 5 is positive.\n",
        "check_number(-3) # Output: -3 is negative.\n",
        "check_number(0)  # Output: 0 is zero.\n"
      ],
      "metadata": {
        "colab": {
          "base_uri": "https://localhost:8080/"
        },
        "id": "O1psEH7skHeR",
        "outputId": "f3d2e181-40c2-41f5-b020-86eded05b24f"
      },
      "execution_count": null,
      "outputs": [
        {
          "output_type": "stream",
          "name": "stdout",
          "text": [
            "5 is positive.\n",
            "-3 is negative.\n",
            "0 is zero.\n"
          ]
        }
      ]
    },
    {
      "cell_type": "code",
      "source": [
        "# 12. Write a for loop to print numbers from 1 to 10.\n",
        "\n",
        "for i in range(1, 11):\n",
        "     print(i)\n"
      ],
      "metadata": {
        "colab": {
          "base_uri": "https://localhost:8080/"
        },
        "id": "gLbI5ltqkBq6",
        "outputId": "bbfcf6fc-98b5-40e0-e19f-e1d61f803729"
      },
      "execution_count": null,
      "outputs": [
        {
          "output_type": "stream",
          "name": "stdout",
          "text": [
            "1\n",
            "2\n",
            "3\n",
            "4\n",
            "5\n",
            "6\n",
            "7\n",
            "8\n",
            "9\n",
            "10\n"
          ]
        }
      ]
    },
    {
      "cell_type": "code",
      "source": [
        "# 13. Write a Python program to find the sum of all even numbers between 1 and 50.\n",
        "\n",
        "sum_of_evens = 0\n",
        "for i in range(2, 51, 2):\n",
        "    sum_of_evens += i\n",
        "\n",
        "print(f\"The sum of all even numbers between 1 and 50 is: {sum_of_evens}\")\n"
      ],
      "metadata": {
        "id": "HZVtoRBc97d3",
        "colab": {
          "base_uri": "https://localhost:8080/"
        },
        "outputId": "8b2f8b8b-55dd-4d7b-f4f6-5d9342d297a9"
      },
      "execution_count": null,
      "outputs": [
        {
          "output_type": "stream",
          "name": "stdout",
          "text": [
            "The sum of all even numbers between 1 and 50 is: 650\n"
          ]
        }
      ]
    },
    {
      "cell_type": "code",
      "source": [
        "# 14. Write a program to reverse a string using a while loop.\n",
        "\n",
        "def reverse_string_while(input_string):\n",
        "    reversed_string = \"\"\n",
        "    i = len(input_string) - 1\n",
        "    while i >= 0:\n",
        "        reversed_string += input_string[i]\n",
        "        i -= 1\n",
        "    return reversed_string\n",
        "\n",
        "# Example usage\n",
        "string_to_reverse = \"hello\"  # Example string\n",
        "reversed_string = reverse_string_while(string_to_reverse)\n",
        "print(f\"Reversed string: {reversed_string}\")\n"
      ],
      "metadata": {
        "id": "qs_tfno497Z_",
        "colab": {
          "base_uri": "https://localhost:8080/"
        },
        "outputId": "52be3f2b-e924-4ad3-bf8b-e1c804eed591"
      },
      "execution_count": null,
      "outputs": [
        {
          "output_type": "stream",
          "name": "stdout",
          "text": [
            "Reversed string: olleh\n"
          ]
        }
      ]
    },
    {
      "cell_type": "code",
      "source": [
        "# 15. Write a Python program to calculate the factorial of a number provided by the user using a while loop.\n",
        "\n",
        "def factorial_while(n):\n",
        "    \"\"\"Calculates the factorial of a non-negative integer using a while loop.\"\"\"\n",
        "    if not isinstance(n, int) or n < 0:\n",
        "        return \"Factorial is not defined for negative numbers or non-integers.\"\n",
        "\n",
        "    factorial = 1\n",
        "    i = 1\n",
        "    while i <= n:\n",
        "        factorial *= i\n",
        "        i += 1\n",
        "    return factorial\n",
        "\n",
        "# Get user input\n",
        "try:\n",
        "    num = int(input(\"Enter a non-negative integer: \"))\n",
        "    result = factorial_while(num)\n",
        "    print(f\"The factorial of {num} is {result}\")\n",
        "except ValueError:\n",
        "    print(\"Invalid input. Please enter an integer.\")"
      ],
      "metadata": {
        "id": "-R77ZJGm97VY",
        "colab": {
          "base_uri": "https://localhost:8080/"
        },
        "outputId": "9c4a7c3b-12a4-4d63-91af-1687be1fdb43"
      },
      "execution_count": null,
      "outputs": [
        {
          "output_type": "stream",
          "name": "stdout",
          "text": [
            "Enter a non-negative integer: 7\n",
            "The factorial of 7 is 5040\n"
          ]
        }
      ]
    }
  ]
}